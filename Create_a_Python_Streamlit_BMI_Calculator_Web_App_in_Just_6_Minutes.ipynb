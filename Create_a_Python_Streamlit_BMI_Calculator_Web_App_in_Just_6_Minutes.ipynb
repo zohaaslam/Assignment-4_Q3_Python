{
  "nbformat": 4,
  "nbformat_minor": 0,
  "metadata": {
    "colab": {
      "provenance": [],
      "authorship_tag": "ABX9TyNcXRVRIWatQ3dGyZVxeQE5",
      "include_colab_link": true
    },
    "kernelspec": {
      "name": "python3",
      "display_name": "Python 3"
    },
    "language_info": {
      "name": "python"
    }
  },
  "cells": [
    {
      "cell_type": "markdown",
      "metadata": {
        "id": "view-in-github",
        "colab_type": "text"
      },
      "source": [
        "<a href=\"https://colab.research.google.com/github/zohaaslam/Assignment-4_Q3_Python/blob/main/Create_a_Python_Streamlit_BMI_Calculator_Web_App_in_Just_6_Minutes.ipynb\" target=\"_parent\"><img src=\"https://colab.research.google.com/assets/colab-badge.svg\" alt=\"Open In Colab\"/></a>"
      ]
    },
    {
      "cell_type": "markdown",
      "source": [
        "# **Project 8: Create a Python Streamlit BMI Calculator Web App in Just 6 Minutes**"
      ],
      "metadata": {
        "id": "Q61AvCC0il3p"
      }
    },
    {
      "cell_type": "code",
      "execution_count": null,
      "metadata": {
        "colab": {
          "base_uri": "https://localhost:8080/",
          "height": 399
        },
        "id": "NG3xdaXriiYu",
        "outputId": "7ebec55a-8d16-4398-b5ec-2e1a7a3f9cf5"
      },
      "outputs": [
        {
          "output_type": "error",
          "ename": "ModuleNotFoundError",
          "evalue": "No module named 'streamlit'",
          "traceback": [
            "\u001b[0;31m---------------------------------------------------------------------------\u001b[0m",
            "\u001b[0;31mModuleNotFoundError\u001b[0m                       Traceback (most recent call last)",
            "\u001b[0;32m<ipython-input-1-352b5faf4aad>\u001b[0m in \u001b[0;36m<cell line: 0>\u001b[0;34m()\u001b[0m\n\u001b[1;32m      1\u001b[0m \u001b[0;31m# Project 8: BMI Calculator Project In Python.\u001b[0m\u001b[0;34m\u001b[0m\u001b[0;34m\u001b[0m\u001b[0m\n\u001b[0;32m----> 2\u001b[0;31m \u001b[0;32mimport\u001b[0m \u001b[0mstreamlit\u001b[0m \u001b[0;32mas\u001b[0m \u001b[0mst\u001b[0m\u001b[0;34m\u001b[0m\u001b[0;34m\u001b[0m\u001b[0m\n\u001b[0m\u001b[1;32m      3\u001b[0m \u001b[0;32mimport\u001b[0m \u001b[0mtime\u001b[0m\u001b[0;34m\u001b[0m\u001b[0;34m\u001b[0m\u001b[0m\n\u001b[1;32m      4\u001b[0m \u001b[0;34m\u001b[0m\u001b[0m\n\u001b[1;32m      5\u001b[0m \u001b[0;31m# ✅ Page config — must be at the top!\u001b[0m\u001b[0;34m\u001b[0m\u001b[0;34m\u001b[0m\u001b[0m\n",
            "\u001b[0;31mModuleNotFoundError\u001b[0m: No module named 'streamlit'",
            "",
            "\u001b[0;31m---------------------------------------------------------------------------\u001b[0;32m\nNOTE: If your import is failing due to a missing package, you can\nmanually install dependencies using either !pip or !apt.\n\nTo view examples of installing some common dependencies, click the\n\"Open Examples\" button below.\n\u001b[0;31m---------------------------------------------------------------------------\u001b[0m\n"
          ],
          "errorDetails": {
            "actions": [
              {
                "action": "open_url",
                "actionText": "Open Examples",
                "url": "/notebooks/snippets/importing_libraries.ipynb"
              }
            ]
          }
        }
      ],
      "source": [
        "# Project 8: BMI Calculator Project In Python.\n",
        "import streamlit as st\n",
        "import time\n",
        "\n",
        "# ✅ Page config — must be at the top!\n",
        "st.set_page_config(page_title=\"BMI Calculator\", page_icon=\"🏋️\", layout=\"centered\")\n",
        "\n",
        "# ✅ Custom CSS for background and styling\n",
        "st.markdown(\n",
        "    \"\"\"\n",
        "    <style>\n",
        "    .stApp {\n",
        "        background-color: #e6f2ff;\n",
        "    }\n",
        "    .main-title {\n",
        "        text-align: center;\n",
        "        font-size: 36px;\n",
        "        color: #003366;\n",
        "    }\n",
        "    .sub-title {\n",
        "        font-size: 20px;\n",
        "        color: #444;\n",
        "        text-align: center;\n",
        "        margin-bottom: 30px;\n",
        "    }\n",
        "    </style>\n",
        "    \"\"\",\n",
        "    unsafe_allow_html=True\n",
        ")\n",
        "\n",
        "# ✅ Title with emoji\n",
        "st.markdown('<h1 class=\"main-title\">🏋️‍♂️ BMI Calculator in Python 🧮</h1>', unsafe_allow_html=True)\n",
        "\n",
        "# ✅ Subtitle with emoji\n",
        "st.markdown('<p class=\"sub-title\">📏 Calculate your Body Mass Index (BMI) by entering your weight and height below.</p>', unsafe_allow_html=True)\n",
        "\n",
        "# ✅ Input columns\n",
        "col1, col2 = st.columns(2)\n",
        "with col1:\n",
        "    weight = st.number_input(\"⚖️ Weight (kg):\", min_value=1.0, format=\"%.2f\")\n",
        "with col2:\n",
        "    height = st.number_input(\"📏 Height (m):\", min_value=1.0, format=\"%.2f\")\n",
        "\n",
        "# ✅ Calculate BMI\n",
        "if height > 0 and weight > 0:\n",
        "    bmi = weight / (height ** 2)\n",
        "    st.subheader(\"🧾 Your BMI Is:\")\n",
        "    st.markdown(f\"**{bmi:.2f}**\", unsafe_allow_html=True)\n",
        "\n",
        "    # ✅ BMI Categories with messages\n",
        "    if bmi < 18.5:\n",
        "        st.error(\"🔴 Underweight\")\n",
        "    elif 18.5 <= bmi < 24.9:\n",
        "        st.success(\"🟢 Normal weight\")\n",
        "    elif 25 <= bmi < 29.9:\n",
        "        st.warning(\"🟠 Overweight\")\n",
        "    else:\n",
        "        st.error(\"🔴 Obesity\")\n",
        "\n",
        "else:\n",
        "    st.info(\"ℹ️ Please enter valid weight and height values.\")\n"
      ]
    }
  ]
}