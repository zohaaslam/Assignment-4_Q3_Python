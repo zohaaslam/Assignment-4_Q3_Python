{
  "cells": [
    {
      "cell_type": "markdown",
      "metadata": {
        "id": "view-in-github",
        "colab_type": "text"
      },
      "source": [
        "<a href=\"https://colab.research.google.com/github/zohaaslam/Assignment-4_Q3_Python/blob/main/Hangman_Game_Python.ipynb\" target=\"_parent\"><img src=\"https://colab.research.google.com/assets/colab-badge.svg\" alt=\"Open In Colab\"/></a>"
      ]
    },
    {
      "cell_type": "markdown",
      "metadata": {
        "id": "rnCri3My3qso"
      },
      "source": [
        "# **Project 5: Hangman Python Project**"
      ]
    },
    {
      "cell_type": "code",
      "source": [
        "# HANGAMA PROJECT ASSIGNMENT 4\n",
        "import random\n",
        "\n",
        "words = ['enum', 'python', 'collab', 'vscode', 'game']\n",
        "word = random.choice(words)\n",
        "guessed_letters = []\n",
        "attempts = 6\n",
        "\n",
        "print(\"Welcome to Hangman Game!\")\n",
        "print(\"_\" * len(word))\n",
        "\n",
        "while attempts > 0:\n",
        "    guess = input(\"\\nGuess a letter: \").lower()\n",
        "\n",
        "    if len(guess) != 1 or not guess.isalpha():\n",
        "        print(\"Write one alphabet only!\")\n",
        "        continue\n",
        "\n",
        "    if guess in guessed_letters:\n",
        "        print(\"This letter is already guessed. Choose another letter.\")\n",
        "        continue\n",
        "\n",
        "    guessed_letters.append(guess)\n",
        "\n",
        "    if guess in word:\n",
        "        print(\"Correct guess!\")\n",
        "    else:\n",
        "        attempts -= 1\n",
        "        print(f\"Wrong guess! Remaining attempts: {attempts}\")\n",
        "\n",
        "    displayed_word = \"\".join(letter if letter in guessed_letters else \"_\" for letter in word)\n",
        "    print(displayed_word)\n",
        "\n",
        "    if \"_\" not in displayed_word:\n",
        "        print(f\"Congratulations! The correct word is: {word}\")\n",
        "        break\n",
        "\n",
        "else:\n",
        "    print(f\"Game over! The correct word was: {word}\")\n",
        "d\n"
      ],
      "metadata": {
        "colab": {
          "base_uri": "https://localhost:8080/"
        },
        "id": "gS0lebn0Vm1_",
        "outputId": "1df135ae-86c8-4af3-d580-0ae088caf774"
      },
      "execution_count": 1,
      "outputs": [
        {
          "output_type": "stream",
          "name": "stdout",
          "text": [
            "Welcome to Hangman Game!\n",
            "____\n",
            "\n",
            "Guess a letter: h\n",
            "Wrong guess! Remaining attempts: 5\n",
            "____\n",
            "\n",
            "Guess a letter: o\n",
            "Wrong guess! Remaining attempts: 4\n",
            "____\n",
            "\n",
            "Guess a letter: t\n",
            "Wrong guess! Remaining attempts: 3\n",
            "____\n",
            "\n",
            "Guess a letter: p\n",
            "Wrong guess! Remaining attempts: 2\n",
            "____\n",
            "\n",
            "Guess a letter: e\n",
            "Correct guess!\n",
            "___e\n",
            "\n",
            "Guess a letter: n\n",
            "Wrong guess! Remaining attempts: 1\n",
            "___e\n",
            "\n",
            "Guess a letter: v\n",
            "Wrong guess! Remaining attempts: 0\n",
            "___e\n",
            "Game over! The correct word was: game\n"
          ]
        }
      ]
    }
  ],
  "metadata": {
    "colab": {
      "provenance": [],
      "authorship_tag": "ABX9TyO6FHZHPECXdVg4/+yd2XZ8",
      "include_colab_link": true
    },
    "kernelspec": {
      "display_name": "Python 3",
      "name": "python3"
    },
    "language_info": {
      "name": "python"
    }
  },
  "nbformat": 4,
  "nbformat_minor": 0
}