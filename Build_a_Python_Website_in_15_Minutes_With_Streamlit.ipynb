{
  "nbformat": 4,
  "nbformat_minor": 0,
  "metadata": {
    "colab": {
      "provenance": [],
      "authorship_tag": "ABX9TyO2WOqMtvBf/I9LxCnTRykB",
      "include_colab_link": true
    },
    "kernelspec": {
      "name": "python3",
      "display_name": "Python 3"
    },
    "language_info": {
      "name": "python"
    }
  },
  "cells": [
    {
      "cell_type": "markdown",
      "metadata": {
        "id": "view-in-github",
        "colab_type": "text"
      },
      "source": [
        "<a href=\"https://colab.research.google.com/github/zohaaslam/Assignment-4_Q3_Python/blob/main/Build_a_Python_Website_in_15_Minutes_With_Streamlit.ipynb\" target=\"_parent\"><img src=\"https://colab.research.google.com/assets/colab-badge.svg\" alt=\"Open In Colab\"/></a>"
      ]
    },
    {
      "cell_type": "markdown",
      "source": [
        "# **Project 9: Build a Python Website in 15 Minutes With Streamlit**"
      ],
      "metadata": {
        "id": "bzqfALsJjIAf"
      }
    },
    {
      "cell_type": "code",
      "source": [
        "#  Project: 9 Build a Python Website in 15 Minutes With Streamlit\n",
        "\n",
        "import streamlit as st\n",
        "import pandas as pd\n",
        "import random\n",
        "\n",
        "\n",
        "\n",
        "st.set_page_config(page_title=\"Student Data Generator\", layout=\"wide\")\n",
        "st.title(\"Student CSV File Generator\")\n",
        "\n",
        "\n",
        "names = [\"Ali\",\"Ayesha\",\"Habiba\",\"Hanaiya\",\"Arham\",\"Rafiya\",\"Wahaj\",\"Almeer\",\"Eman\",\"Anabiya\",\"Hasnain\",\"Rafay\",\"Abdullah\",\"Hani\",\"Abrish\",\"Fatima\"]\n",
        "\n",
        "students = []\n",
        "for i in range(1, 16):\n",
        "    student = {\n",
        "        \"ID\": i,\n",
        "        \"Name\": random.choice(names),\n",
        "        \"Age\": random.randint(18,25),\n",
        "       \"Grade\":random.choice([\"A\", \"B\", \"C\", \"D\",\"E\" ,\"F\"]),\n",
        "       \"Marks\": random.randint(40, 100),\n",
        "\n",
        "\n",
        "    }\n",
        "    students.append(student)\n",
        "\n",
        "df = pd.DataFrame(students)\n",
        "st.subheader(\"Generated Student Data\")\n",
        "st.dataframe(df)\n",
        "\n",
        "\n",
        "csv_file = df.to_csv(index=False).encode('utf-8')\n",
        "st.download_button(\"Download CSV File \", csv_file, \"students.csv\", \"text/csv\", key=\"download-csv\")\n",
        "st.success(\"students Record Generated Successfully!\")\n",
        "\n",
        "\n",
        "\n",
        "\n",
        "\n",
        "\n",
        "\n"
      ],
      "metadata": {
        "id": "kL3ziHiRXs8_"
      },
      "execution_count": null,
      "outputs": []
    }
  ]
}