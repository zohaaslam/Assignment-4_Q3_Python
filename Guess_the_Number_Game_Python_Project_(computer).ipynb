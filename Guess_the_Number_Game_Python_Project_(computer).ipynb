{
  "nbformat": 4,
  "nbformat_minor": 0,
  "metadata": {
    "colab": {
      "provenance": [],
      "authorship_tag": "ABX9TyMIcDT4bvb7lddYSmzIrPO0",
      "include_colab_link": true
    },
    "kernelspec": {
      "name": "python3",
      "display_name": "Python 3"
    },
    "language_info": {
      "name": "python"
    }
  },
  "cells": [
    {
      "cell_type": "markdown",
      "metadata": {
        "id": "view-in-github",
        "colab_type": "text"
      },
      "source": [
        "<a href=\"https://colab.research.google.com/github/zohaaslam/Assignment-4_Q3_Python/blob/main/Guess_the_Number_Game_Python_Project_(computer).ipynb\" target=\"_parent\"><img src=\"https://colab.research.google.com/assets/colab-badge.svg\" alt=\"Open In Colab\"/></a>"
      ]
    },
    {
      "cell_type": "markdown",
      "source": [
        "### Project 2: Guess the Number Game Python Project (computer)"
      ],
      "metadata": {
        "id": "A4od8nQQxIKH"
      }
    },
    {
      "cell_type": "code",
      "execution_count": null,
      "metadata": {
        "colab": {
          "base_uri": "https://localhost:8080/"
        },
        "id": "Skodf9ySxHA5",
        "outputId": "648a712f-ab50-44aa-ee3d-4013338abafe"
      },
      "outputs": [
        {
          "output_type": "stream",
          "name": "stdout",
          "text": [
            "🎯 Welcome to the Number Guessing Game!\n",
            "I'm thinking of a number between 1 and 100.\n",
            "\n",
            "You have 7 guesses left.\n",
            "🔢 Take a guess: 3\n",
            "📉 Too low! Try a higher number.\n",
            "\n",
            "You have 6 guesses left.\n",
            "🔢 Take a guess: 7\n",
            "📉 Too low! Try a higher number.\n",
            "\n",
            "You have 5 guesses left.\n",
            "🔢 Take a guess: 34\n",
            "📈 Too high! Try a lower number.\n",
            "\n",
            "You have 4 guesses left.\n",
            "🔢 Take a guess: 30\n",
            "📈 Too high! Try a lower number.\n",
            "\n",
            "You have 3 guesses left.\n",
            "🔢 Take a guess: \n",
            "❌ Invalid input: Please enter a number.\n",
            "\n",
            "You have 3 guesses left.\n",
            "🔢 Take a guess: 20\n",
            "📈 Too high! Try a lower number.\n",
            "\n",
            "You have 2 guesses left.\n",
            "🔢 Take a guess: 18\n",
            "📈 Too high! Try a lower number.\n",
            "\n",
            "You have 1 guesses left.\n",
            "🔢 Take a guess: 15\n",
            "📈 Too high! Try a lower number.\n",
            "\n",
            "😞 You've run out of guesses. The number was 14.\n"
          ]
        }
      ],
      "source": [
        "\n",
        "\n",
        "\n",
        "# Project 2 : Number Guessing Game In Python\n",
        "# Game: Guess a number between 1 and 100 within 7 tries\n",
        "\n",
        "import random\n",
        "\n",
        "def guess_the_number():\n",
        "    \"\"\"Project 2 : Number Guessing Game In Python\"\"\"\n",
        "    number = random.randint(1, 100)  # Random number between 1 and 100\n",
        "    guesses_left = 7\n",
        "\n",
        "    print(\"🎯 Welcome to the Number Guessing Game!\")\n",
        "    print(\"I'm thinking of a number between 1 and 100.\")\n",
        "\n",
        "    while guesses_left > 0:\n",
        "        print(f\"\\nYou have {guesses_left} guesses left.\")\n",
        "        try:\n",
        "            guess = int(input(\"🔢 Take a guess: \"))\n",
        "        except ValueError:\n",
        "            print(\"❌ Invalid input: Please enter a number.\")\n",
        "            continue\n",
        "\n",
        "        if guess < number:\n",
        "            print(\"📉 Too low! Try a higher number.\")\n",
        "        elif guess > number:\n",
        "            print(\"📈 Too high! Try a lower number.\")\n",
        "        else:\n",
        "            print(f\"🎉 Congratulations! You guessed the number in {7 - guesses_left + 1} tries.\")\n",
        "            return  # game over, guessed correctly\n",
        "\n",
        "        guesses_left -= 1\n",
        "\n",
        "    # Agar user 7 attempts mein guess na kar sake\n",
        "    print(f\"\\n😞 You've run out of guesses. The number was {number}.\")\n",
        "\n",
        "# Game start karne ke liye function call karo\n",
        "guess_the_number()\n"
      ]
    }
  ]
}