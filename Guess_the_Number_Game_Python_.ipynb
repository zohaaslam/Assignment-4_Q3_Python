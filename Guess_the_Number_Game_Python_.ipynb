{
  "nbformat": 4,
  "nbformat_minor": 0,
  "metadata": {
    "colab": {
      "provenance": [],
      "authorship_tag": "ABX9TyPyvAPFf0zXAN3MD6bW1ZF6",
      "include_colab_link": true
    },
    "kernelspec": {
      "name": "python3",
      "display_name": "Python 3"
    },
    "language_info": {
      "name": "python"
    }
  },
  "cells": [
    {
      "cell_type": "markdown",
      "metadata": {
        "id": "view-in-github",
        "colab_type": "text"
      },
      "source": [
        "<a href=\"https://colab.research.google.com/github/zohaaslam/Assignment-4_Q3_Python/blob/main/Guess_the_Number_Game_Python_.ipynb\" target=\"_parent\"><img src=\"https://colab.research.google.com/assets/colab-badge.svg\" alt=\"Open In Colab\"/></a>"
      ]
    },
    {
      "cell_type": "markdown",
      "source": [
        "## Project 3: Guess the Number Game Python Project (user)"
      ],
      "metadata": {
        "id": "q9u-Zay90K3q"
      }
    },
    {
      "cell_type": "code",
      "execution_count": null,
      "metadata": {
        "colab": {
          "base_uri": "https://localhost:8080/"
        },
        "id": "xRu9kCJMzpi9",
        "outputId": "6f6148c8-208a-4122-dfbd-8df3abfeb9cb"
      },
      "outputs": [
        {
          "output_type": "stream",
          "name": "stdout",
          "text": [
            "Welcome to Number Guessing Game\n",
            "Your Guess Number Between 1 to 100:20\n",
            "To High Number!\n",
            "Your Guess Number Between 1 to 100:18\n",
            "To High Number!\n",
            "Your Guess Number Between 1 to 100:10\n",
            "To Low Number!\n",
            "Your Guess Number Between 1 to 100:15\n",
            "To Low Number!\n",
            "Your Guess Number Between 1 to 100:16\n",
            "To Low Number!\n",
            "Your Guess Number Between 1 to 100:17\n",
            "Congratulations! You guessed the number.\n"
          ]
        }
      ],
      "source": [
        "# Project3 : Number Guessing Game (User) In Python .\n",
        "\n",
        "import random\n",
        "print(\"Welcome to Number Guessing Game\")\n",
        "\n",
        "# generate random number\n",
        "number = random.randint(1, 100)\n",
        "\n",
        "while True:\n",
        "    guess = int(input(\"Your Guess Number Between 1 to 100:\"))\n",
        "    if guess < number:\n",
        "        print(\"To Low Number!\")\n",
        "    elif guess > number:\n",
        "        print(\"To High Number!\")\n",
        "    else:\n",
        "        print(\"Congratulations! You guessed the number.\")\n",
        "        break\n",
        "\n",
        "''"
      ]
    }
  ]
}