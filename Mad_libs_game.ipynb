{
  "nbformat": 4,
  "nbformat_minor": 0,
  "metadata": {
    "colab": {
      "provenance": [],
      "authorship_tag": "ABX9TyPYa5is8J6zGKdlNNhbs/O5",
      "include_colab_link": true
    },
    "kernelspec": {
      "name": "python3",
      "display_name": "Python 3"
    },
    "language_info": {
      "name": "python"
    }
  },
  "cells": [
    {
      "cell_type": "markdown",
      "metadata": {
        "id": "view-in-github",
        "colab_type": "text"
      },
      "source": [
        "<a href=\"https://colab.research.google.com/github/zohaaslam/Assignment-4_Q3_Python/blob/main/Mad_libs_game.ipynb\" target=\"_parent\"><img src=\"https://colab.research.google.com/assets/colab-badge.svg\" alt=\"Open In Colab\"/></a>"
      ]
    },
    {
      "cell_type": "markdown",
      "source": [
        "<!-- Mad Libs Game In Python -->\n",
        "\n"
      ],
      "metadata": {
        "id": "vQtENNuSnjVU"
      }
    },
    {
      "cell_type": "code",
      "execution_count": null,
      "metadata": {
        "id": "y-YIWNhunNrB"
      },
      "outputs": [],
      "source": []
    },
    {
      "cell_type": "markdown",
      "source": [
        "## **Mad Libs Game In Python**"
      ],
      "metadata": {
        "id": "9Ybg1eQhnzwH"
      }
    },
    {
      "cell_type": "code",
      "source": [
        "# user sy input lijye.\n",
        "name = input(\"Enter a girl name:\")\n",
        "programming_language = input(\"Enter a programming language: (e.g: python,typescript,python,html):\")\n",
        "mentor = input(\"Enter the mentor name:\")\n",
        "\n",
        "# Story Created\n",
        "print(\"\\n Here is my little story based on mad libs game\")\n",
        "print(f\"Once upon a time, there was a girl named {name}.\")\n",
        "print(f\"{name} was very curious and always want to learn new things\")\n",
        "print(f\"One day, She decided to learn {programming_language} language at governor house!\")\n",
        "print(f\"Luckily, {name} found a great mentor name as {mentor}, who was an expert in {programming_language}.\")\n",
        "print(\"And so, her journey contionous.....! Thanku!\")\n",
        "\n",
        "\n",
        "\n",
        "\n",
        "\n"
      ],
      "metadata": {
        "id": "TcR9bRfBoHRs",
        "colab": {
          "base_uri": "https://localhost:8080/"
        },
        "outputId": "c57da1a8-21e7-48e7-8d52-87869212c59f"
      },
      "execution_count": 1,
      "outputs": [
        {
          "output_type": "stream",
          "name": "stdout",
          "text": [
            "Enter a girl name:ZOHA\n",
            "Enter a programming language: (e.g: python,typescript,python,html):PYTHON\n",
            "Enter the mentor name:ASHARIB ALI\n",
            "\n",
            " Here is my little story based on mad libs game\n",
            "Once upon a time, there was a girl named ZOHA.\n",
            "ZOHA was very curious and always want to learn new things\n",
            "One day, She decided to learn PYTHON language at governor house!\n",
            "Luckily, ZOHA found a great mentor name as ASHARIB ALI, who was an expert in PYTHON.\n",
            "And so, her journey contionous.....! Thanku!\n"
          ]
        }
      ]
    }
  ]
}