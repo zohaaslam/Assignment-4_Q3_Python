{
  "nbformat": 4,
  "nbformat_minor": 0,
  "metadata": {
    "colab": {
      "provenance": [],
      "authorship_tag": "ABX9TyM/2IRTtdHNfJt7wHRqmy+u",
      "include_colab_link": true
    },
    "kernelspec": {
      "name": "python3",
      "display_name": "Python 3"
    },
    "language_info": {
      "name": "python"
    }
  },
  "cells": [
    {
      "cell_type": "markdown",
      "metadata": {
        "id": "view-in-github",
        "colab_type": "text"
      },
      "source": [
        "<a href=\"https://colab.research.google.com/github/zohaaslam/Assignment-4_Q3_Python/blob/main/Rock%2C_paper%2C_scissors_Game.ipynb\" target=\"_parent\"><img src=\"https://colab.research.google.com/assets/colab-badge.svg\" alt=\"Open In Colab\"/></a>"
      ]
    },
    {
      "cell_type": "markdown",
      "source": [
        "# **Project 4: Rock, paper, scissors Python Project**"
      ],
      "metadata": {
        "id": "92WpNsGX1Qdc"
      }
    },
    {
      "cell_type": "code",
      "execution_count": 3,
      "metadata": {
        "id": "JNCoQXDb1G87",
        "colab": {
          "base_uri": "https://localhost:8080/"
        },
        "outputId": "1aec8d11-7e2c-4ad4-cb70-6e12d5af6b91"
      },
      "outputs": [
        {
          "output_type": "stream",
          "name": "stdout",
          "text": [
            "Enter your choice (rock, paper, scissors): SCISORS\n",
            "Computer wins! rock beats scisors.\n"
          ]
        }
      ],
      "source": [
        "\n",
        "# Project 4 : Rock, paper, scissors game in Python\n",
        "\n",
        "import random\n",
        "\n",
        "# game choices\n",
        "\n",
        "choices = [\"rock\",\"paper\",\"scissors\"]\n",
        "\n",
        "# player choice\n",
        "player_choice = input(\"Enter your choice (rock, paper, scissors): \").lower()\n",
        "\n",
        "# computer choice\n",
        "computer_choice = random.choice(choices)\n",
        "\n",
        "# winner decision\n",
        "\n",
        "if player_choice == computer_choice:\n",
        "    print(f\"Both players chose {player_choice}. It's a tie!\")\n",
        "\n",
        "elif player_choice == \"rock\" and computer_choice == \"scissors\":\n",
        "    print(f\"Player wins! {player_choice} beats {computer_choice}.\")\n",
        "\n",
        "\n",
        "elif player_choice == \"paper\" and computer_choice == \"rock\":\n",
        "    print(f\"Player wins! {player_choice} beats {computer_choice}.\")\n",
        "\n",
        "elif player_choice == \"scissors\" and computer_choice == \"paper\":\n",
        "    print(f\"Player wins! {player_choice} beats {computer_choice}.\")\n",
        "\n",
        "\n",
        "else:\n",
        "    print(f\"Computer wins! {computer_choice} beats {player_choice}.\")\n",
        "\n",
        "\n",
        "\n",
        "\n"
      ]
    }
  ]
}