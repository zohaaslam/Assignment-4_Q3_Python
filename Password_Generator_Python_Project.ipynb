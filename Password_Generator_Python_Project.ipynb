{
  "nbformat": 4,
  "nbformat_minor": 0,
  "metadata": {
    "colab": {
      "provenance": [],
      "authorship_tag": "ABX9TyOP6h5Chfeg0BN+2jVV1uVT",
      "include_colab_link": true
    },
    "kernelspec": {
      "name": "python3",
      "display_name": "Python 3"
    },
    "language_info": {
      "name": "python"
    }
  },
  "cells": [
    {
      "cell_type": "markdown",
      "metadata": {
        "id": "view-in-github",
        "colab_type": "text"
      },
      "source": [
        "<a href=\"https://colab.research.google.com/github/zohaaslam/Assignment-4_Q3_Python/blob/main/Password_Generator_Python_Project.ipynb\" target=\"_parent\"><img src=\"https://colab.research.google.com/assets/colab-badge.svg\" alt=\"Open In Colab\"/></a>"
      ]
    },
    {
      "cell_type": "markdown",
      "source": [
        "# **Project 7: Password Generator Python Projec**"
      ],
      "metadata": {
        "id": "_tQqizxSiHMS"
      }
    },
    {
      "cell_type": "code",
      "execution_count": null,
      "metadata": {
        "colab": {
          "base_uri": "https://localhost:8080/"
        },
        "id": "tthwVTo8h1hc",
        "outputId": "813a88ad-bd1c-40b1-c12f-1aedb42ca472"
      },
      "outputs": [
        {
          "output_type": "stream",
          "name": "stdout",
          "text": [
            "Enter the length of your desired password: 3\n",
            "Your generated password is: jon\n",
            "Password generated successfully!\n",
            "Thank you for using the password generator.\n"
          ]
        }
      ],
      "source": [
        "# Project 7: Password Generator In Python.\n",
        "\n",
        "\n",
        "import random\n",
        "import string\n",
        "\n",
        "\n",
        "def generated_password(length=12):\n",
        "    characters = string.ascii_letters + string.digits + string.punctuation\n",
        "    password = ''.join(random.choice(characters) for _ in range(length))\n",
        "    return password\n",
        "\n",
        "\n",
        "#  users inputs\n",
        "length = int(input(\"Enter the length of your desired password: \"))\n",
        "\n",
        "password = generated_password(length)\n",
        "print(f\"Your generated password is: {password}\")\n",
        "print(\"Password generated successfully!\")\n",
        "print(\"Thank you for using the password generator.\")\n",
        "\n"
      ]
    }
  ]
}